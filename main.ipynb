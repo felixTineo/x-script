{
 "cells": [
  {
   "cell_type": "code",
   "execution_count": 2,
   "metadata": {},
   "outputs": [
    {
     "name": "stdout",
     "output_type": "stream",
     "text": [
      "BEAR_TOKEN:  AAAAAAAAAAAAAAAAAAAAAKvHyAEAAAAAFyOJfume5W9PbSq1y7pRVHQTEwc%3DEA6wdZoUNWXrj1WqHAyHtmw3fh9dx9UytC7oVwy0hCb9oAgWdm\n",
      "API_KEY:  2bMDwRJZZmlmXn2AQbm7lgJbH\n",
      "API_SECRET:  eT2qLOSps8mtj5UbibOYNRxkyNqOhKVucqN22nHX7ZioGTVZ4t\n",
      "ACCESS_TOKEN:  1878050966085496833-gxYuHjNPc8hnY33pG0K48p1EcRxNPJ\n",
      "ACCESS_TOKEN_SECRET:  hviJIOai2EQ3zCVvrWFYm9QmRzNeWzrl3EFpp0cph2tdO\n",
      "CLIENT_ID:  ZEhWMWFXdGR4VmZTdVJuUXQ0cng6MTpjaQ\n",
      "CLIENT_SECRET:  h8cMZyb1ExanUNFdGDWhcmtjWUbcGtXh54MTg4KmWxWUJwcccu\n",
      "Publicando tweet: Maduro \"sobrevive\"?  ¡Eso es minimizar la tragedia!  Su régimen, sostenido por la represión y el narcotráfico, está más débil y aislado que nunca.  La lucha por la libertad de Venezuela continúa. #VenezuelaLibre #MaduroDictador #NoMásDictadura  #SOSVenezuela\n",
      " #venezuela #politica\n",
      "Response(data={'text': 'Maduro \"sobrevive\"?  ¡Eso es minimizar la tragedia!  Su régimen, sostenido por la represión y el narcotráfico, está más débil y aislado que nunca.  La lucha por la libertad de Venezuela continúa. #VenezuelaLibre #MaduroDictador #NoMásDictadura  #SOSVenezuela\\n #venezuela #politica', 'edit_history_tweet_ids': ['1879868705942667571'], 'id': '1879868705942667571'}, includes={}, errors=[], meta={})\n"
     ]
    }
   ],
   "source": [
    "import sys\n",
    "import news\n",
    "import ai\n",
    "import tweet\n",
    "from database import r\n",
    "\n",
    "try:\n",
    "    daily_news = news.get()\n",
    "    print(daily_news)\n",
    "except Exception as e:\n",
    "    print(\"Get news error: \", e)\n",
    "    sys.exit(1)\n",
    "\n",
    "try:\n",
    "    for new in daily_news:\n",
    "        if r.exists(new[\"article_id\"]):\n",
    "            continue\n",
    "        else:\n",
    "            r.set(new[\"article_id\"], 1)\n",
    "            r.expire(new[\"article_id\"], 86400)\n",
    "            current_new = new\n",
    "            break\n",
    "except Exception as e:\n",
    "    print(\"Check news error: \", e)\n",
    "    sys.exit(1)\n",
    "\n",
    "try:\n",
    "    ai_comment = ai.generate_ai_comment(current_new[0][\"title\"])\n",
    "    text = ai_comment if ai_comment else current_new[0][\"title\"]\n",
    "    link = current_new[0][\"link\"] if current_new[0][\"link\"] else \"\"\n",
    "    post = f\"{text} \\n{link}\"\n",
    "    print(\"POST:\", post)\n",
    "    # tags = daily_news[0][\"tags\"]\n",
    "    #result = tweet.post(post, [])\n",
    "    print(result)\n",
    "except Exception as e:\n",
    "    print(e)\n"
   ]
  }
 ],
 "metadata": {
  "kernelspec": {
   "display_name": "x-script",
   "language": "python",
   "name": "python3"
  },
  "language_info": {
   "codemirror_mode": {
    "name": "ipython",
    "version": 3
   },
   "file_extension": ".py",
   "mimetype": "text/x-python",
   "name": "python",
   "nbconvert_exporter": "python",
   "pygments_lexer": "ipython3",
   "version": "3.10.16"
  }
 },
 "nbformat": 4,
 "nbformat_minor": 2
}
