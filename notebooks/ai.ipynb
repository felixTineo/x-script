{
 "cells": [
  {
   "cell_type": "code",
   "execution_count": 3,
   "metadata": {},
   "outputs": [
    {
     "name": "stdout",
     "output_type": "stream",
     "text": [
      "Maduro \"oficialmente\" presidente?  ¡Fraude electoral descarado! La dictadura se aferra al poder, pero la lucha del pueblo venezolano por la libertad y la democracia NO termina.  Seguiremos exigiendo elecciones libres y justas.  #VenezuelaLibre #MaduroDictador #NoNosCallaran\n",
      "\n"
     ]
    }
   ],
   "source": [
    "from openai import OpenAI\n",
    "from dotenv import load_dotenv\n",
    "import os\n",
    "\n",
    "load_dotenv()\n",
    "api_key=os.getenv(\"GEMINI_API_KEY\")\n",
    "role = \"crea u tweet como opositor venezolano de este titular: \"\n",
    "new = \"Qué opciones le quedan a la oposición en Venezuela ahora que Maduro es oficialmente presidente\"\n",
    "# client = OpenAI(\n",
    "#     api_key=os.getenv(\"OPENAI_API_KEY\"),\n",
    "# )\n",
    "\n",
    "# completion = client.chat.completions.create(\n",
    "#     model=\"gpt-4o-mini\",\n",
    "#     store=False,\n",
    "#     messages=[{\"role\": \"user\", \"content\": role + new}],\n",
    "# )\n",
    "\n",
    "# print(completion.choices[0].message)\n",
    "import google.generativeai as genai\n",
    "\n",
    "genai.configure(api_key=api_key)\n",
    "model = genai.GenerativeModel(\"gemini-1.5-flash\")\n",
    "response = model.generate_content(role + new)\n",
    "print(response.text)"
   ]
  }
 ],
 "metadata": {
  "kernelspec": {
   "display_name": "x-script",
   "language": "python",
   "name": "python3"
  },
  "language_info": {
   "codemirror_mode": {
    "name": "ipython",
    "version": 3
   },
   "file_extension": ".py",
   "mimetype": "text/x-python",
   "name": "python",
   "nbconvert_exporter": "python",
   "pygments_lexer": "ipython3",
   "version": "3.10.16"
  }
 },
 "nbformat": 4,
 "nbformat_minor": 2
}
