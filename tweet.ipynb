{
 "cells": [
  {
   "cell_type": "markdown",
   "metadata": {},
   "source": [
    "## Import files"
   ]
  },
  {
   "cell_type": "code",
   "execution_count": 5,
   "metadata": {},
   "outputs": [],
   "source": [
    "import requests\n",
    "from dotenv import load_dotenv\n",
    "import os\n",
    "import json\n",
    "import tweepy"
   ]
  },
  {
   "cell_type": "markdown",
   "metadata": {},
   "source": [
    "## Config files"
   ]
  },
  {
   "cell_type": "code",
   "execution_count": 6,
   "metadata": {},
   "outputs": [],
   "source": [
    "load_dotenv()\n",
    "bearer_oauth = os.getenv(\"BEARER_TOKEN\")\n",
    "api_key = os.getenv(\"API_KEY\")\n",
    "api_secret = os.getenv(\"API_SECRET\")\n",
    "access_token = os.getenv(\"ACCESS_TOKEN\")\n",
    "access_token_secret = os.getenv(\"ACCESS_TOKEN_SECRET\")\n",
    "client_id = os.getenv(\"CLIENT_ID\")\n",
    "client_secret = os.getenv(\"CLIENT_SECRET\")"
   ]
  },
  {
   "cell_type": "code",
   "execution_count": 11,
   "metadata": {},
   "outputs": [
    {
     "name": "stdout",
     "output_type": "stream",
     "text": [
      "Tweet publicado: Hola mundo v2\n",
      "Response(data={'edit_history_tweet_ids': ['1879549166755721449'], 'id': '1879549166755721449', 'text': 'Hola mundo v2 #venezuela'}, includes={}, errors=[], meta={})\n"
     ]
    }
   ],
   "source": [
    "auth = tweepy.OAuthHandler(client_id, client_secret)\n",
    "auth.set_access_token(\n",
    "    api_key,\n",
    "    api_secret,\n",
    ")\n",
    "\n",
    "client = tweepy.Client(\n",
    "    bearer_token=bearer_oauth,\n",
    "    access_token=access_token,\n",
    "    access_token_secret=access_token_secret,\n",
    "    consumer_key=api_key,\n",
    "    consumer_secret=api_secret,\n",
    ")\n",
    "\n",
    "def post(mensaje: str, tags=str) -> dict:\n",
    "    try:\n",
    "        result = client.create_tweet(text=mensaje + \" \" + tags)\n",
    "        print(f\"Tweet publicado: {mensaje}\")\n",
    "        return result\n",
    "    except Exception as e:\n",
    "        print(f\"Error al publicar el tweet: {e}\")\n",
    "\n",
    "post_result: dict = post(\"Hola mundo v2\")\n",
    "print(post_result)"
   ]
  }
 ],
 "metadata": {
  "kernelspec": {
   "display_name": "x-script",
   "language": "python",
   "name": "python3"
  },
  "language_info": {
   "codemirror_mode": {
    "name": "ipython",
    "version": 3
   },
   "file_extension": ".py",
   "mimetype": "text/x-python",
   "name": "python",
   "nbconvert_exporter": "python",
   "pygments_lexer": "ipython3",
   "version": "3.10.16"
  }
 },
 "nbformat": 4,
 "nbformat_minor": 2
}
